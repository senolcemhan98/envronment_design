{
 "cells": [
  {
   "cell_type": "markdown",
   "metadata": {},
   "source": [
    "# Import Libs"
   ]
  },
  {
   "cell_type": "code",
   "execution_count": 19,
   "metadata": {},
   "outputs": [],
   "source": [
    "import pygame\n",
    "import random\n",
    "import time"
   ]
  },
  {
   "cell_type": "markdown",
   "metadata": {},
   "source": [
    "# Sizes and Colors"
   ]
  },
  {
   "cell_type": "code",
   "execution_count": 20,
   "metadata": {},
   "outputs": [],
   "source": [
    "# window size\n",
    "WIDTH = 1060\n",
    "HEIGHT = 720\n",
    "FPS = 30 # how fast game is (Frame Per Second)\n",
    "\n",
    "# colors\n",
    "WHITE = (255,255,255)\n",
    "BLACK = (0,0,0)\n",
    "RED = (255, 0, 0) # RGB\n",
    "GREEN = (0, 255, 0)\n",
    "BLUE = (0, 0, 255)\n",
    "YELLOW = (255,255,0)"
   ]
  },
  {
   "cell_type": "markdown",
   "metadata": {},
   "source": [
    "# Create Sprite Classes"
   ]
  },
  {
   "cell_type": "markdown",
   "metadata": {},
   "source": [
    "## Player Class"
   ]
  },
  {
   "cell_type": "code",
   "execution_count": 21,
   "metadata": {},
   "outputs": [],
   "source": [
    "class Player(pygame.sprite.Sprite):\n",
    "    def __init__(self):\n",
    "        pygame.sprite.Sprite.__init__(self)\n",
    "        self.image = pygame.Surface((50,50))\n",
    "        self.image.fill(WHITE)\n",
    "     \n",
    "        self.rect = self.image.get_rect()\n",
    "        self.rect.centerx = 50\n",
    "        self.rect.centery = HEIGHT/2\n",
    "        \n",
    "        self.x_speed = 0\n",
    "        self.y_speed = 0\n",
    "        \n",
    "    def update(self):\n",
    "        # Controls\n",
    "        key_state = pygame.key.get_pressed()\n",
    "                \n",
    "        if key_state[pygame.K_w]:\n",
    "            self.y_speed = -15\n",
    "            \n",
    "        elif key_state[pygame.K_s]:\n",
    "            self.y_speed = 15\n",
    "        \n",
    "        elif key_state[pygame.K_a]:\n",
    "            self.x_speed = -15\n",
    "            \n",
    "        elif key_state[pygame.K_d]:\n",
    "            self.x_speed = 15\n",
    "            \n",
    "        \n",
    "        #Control update \n",
    "        self.rect.x += self.x_speed\n",
    "        self.rect.y += self.y_speed\n",
    "        \n",
    "        self.x_speed = 0\n",
    "        self.y_speed = 0\n",
    "        \n",
    "        #Screeen options\n",
    "        if self.rect.right > WIDTH:\n",
    "            self.rect.right = WIDTH\n",
    "            \n",
    "        if self.rect.left < 0:\n",
    "            self.rect.left = 0\n",
    "        \n",
    "        if self.rect.top < 0:\n",
    "            self.rect.top = 0\n",
    "        \n",
    "        if self.rect.bottom > HEIGHT:\n",
    "            self.rect.bottom = HEIGHT\n"
   ]
  },
  {
   "cell_type": "markdown",
   "metadata": {},
   "source": [
    "## Enemy Class"
   ]
  },
  {
   "cell_type": "code",
   "execution_count": 22,
   "metadata": {},
   "outputs": [],
   "source": [
    "class Enemy(pygame.sprite.Sprite):\n",
    "    def __init__(self):\n",
    "        pygame.sprite.Sprite.__init__(self)\n",
    "        self.image = pygame.Surface((40,40))\n",
    "        self.image.fill(RED)\n",
    "      \n",
    "        self.rect = self.image.get_rect()\n",
    "        self.y_center = random.randint(20,HEIGHT-20)\n",
    "        self.x_center = random.randint(WIDTH-400,WIDTH-20)\n",
    "        self.rect.center = (self.x_center,self.y_center)\n",
    "        \n",
    "        self.x_speed = -10\n",
    "             \n",
    "    def update(self):\n",
    "        self.rect.x += self.x_speed\n",
    "        \n",
    "        if self.rect.left < 0:\n",
    "            self.y_center = random.randint(20,HEIGHT-20)\n",
    "            self.x_center = random.randint(WIDTH-400,WIDTH-20)\n",
    "            self.rect.center = (self.x_center,self.y_center)\n",
    "            "
   ]
  },
  {
   "cell_type": "markdown",
   "metadata": {},
   "source": [
    "# Sprite Group"
   ]
  },
  {
   "cell_type": "code",
   "execution_count": 34,
   "metadata": {},
   "outputs": [
    {
     "name": "stderr",
     "output_type": "stream",
     "text": [
      "<ipython-input-21-802793a9e265>:9: DeprecationWarning: an integer is required (got type float).  Implicit conversion to integers using __int__ is deprecated, and may be removed in a future version of Python.\n",
      "  self.rect.centery = HEIGHT/2\n"
     ]
    }
   ],
   "source": [
    "player_group = pygame.sprite.Group()\n",
    "player = Player()\n",
    "player_group.add(player)\n",
    "enemy_group = pygame.sprite.Group()\n",
    "for i in range(10):\n",
    "    enemy = Enemy()\n",
    "    enemy_group.add(enemy)\n",
    "    "
   ]
  },
  {
   "cell_type": "markdown",
   "metadata": {},
   "source": [
    "# Game Loop"
   ]
  },
  {
   "cell_type": "code",
   "execution_count": 35,
   "metadata": {},
   "outputs": [],
   "source": [
    "pygame.init()\n",
    "screen = pygame.display.set_mode([WIDTH,HEIGHT])\n",
    "pygame.display.set_caption('deneme_env')\n",
    "clock = pygame.time.Clock()"
   ]
  },
  {
   "cell_type": "code",
   "execution_count": 36,
   "metadata": {},
   "outputs": [],
   "source": [
    "running = True\n",
    "while running:\n",
    "    # keep loop running at the right speed\n",
    "    clock.tick(FPS)\n",
    "\n",
    "    \n",
    "    # process input\n",
    "    for event in pygame.event.get():\n",
    "        if event.type == pygame.QUIT:\n",
    "            running = False\n",
    "            \n",
    "    # update\n",
    "    player_group.update()\n",
    "    enemy_group.update()\n",
    "    \n",
    "    # check to see if a enemy hit the player\n",
    "    hits = pygame.sprite.spritecollide(player, enemy_group, False)\n",
    "    if hits: #hits == True\n",
    "        running = False\n",
    "     \n",
    "    #draw / render(show)\n",
    "    screen.fill(BLACK)\n",
    "    player_group.draw(screen)\n",
    "    enemy_group.draw(screen)\n",
    "                    \n",
    "    \n",
    "    #after drawing flip display\n",
    "    pygame.display.flip()\n",
    "\n",
    "    \n",
    "pygame.quit()"
   ]
  },
  {
   "cell_type": "code",
   "execution_count": null,
   "metadata": {},
   "outputs": [],
   "source": []
  },
  {
   "cell_type": "code",
   "execution_count": null,
   "metadata": {},
   "outputs": [],
   "source": []
  },
  {
   "cell_type": "code",
   "execution_count": null,
   "metadata": {},
   "outputs": [],
   "source": []
  },
  {
   "cell_type": "code",
   "execution_count": null,
   "metadata": {},
   "outputs": [],
   "source": []
  }
 ],
 "metadata": {
  "kernelspec": {
   "display_name": "Python 3",
   "language": "python",
   "name": "python3"
  },
  "language_info": {
   "codemirror_mode": {
    "name": "ipython",
    "version": 3
   },
   "file_extension": ".py",
   "mimetype": "text/x-python",
   "name": "python",
   "nbconvert_exporter": "python",
   "pygments_lexer": "ipython3",
   "version": "3.8.5"
  }
 },
 "nbformat": 4,
 "nbformat_minor": 4
}
