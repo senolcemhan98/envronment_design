{
 "cells": [
  {
   "cell_type": "markdown",
   "metadata": {},
   "source": [
    "# Import Libs"
   ]
  },
  {
   "cell_type": "code",
   "execution_count": 37,
   "metadata": {},
   "outputs": [],
   "source": [
    "import pygame\n",
    "import random\n",
    "import time"
   ]
  },
  {
   "cell_type": "markdown",
   "metadata": {},
   "source": [
    "# Sizes and colors"
   ]
  },
  {
   "cell_type": "code",
   "execution_count": 38,
   "metadata": {},
   "outputs": [],
   "source": [
    "# window size\n",
    "WIDTH = 1060\n",
    "HEIGHT = 360\n",
    "FPS = 60 # how fast game is\n",
    "\n",
    "# colors\n",
    "WHITE = (255,255,255)\n",
    "BLACK = (0,0,0)\n",
    "RED = (255, 0, 0) # RGB\n",
    "GREEN = (0, 255, 0)\n",
    "BLUE = (0, 0, 255)\n",
    "YELLOW = (255,255,0)"
   ]
  },
  {
   "cell_type": "markdown",
   "metadata": {},
   "source": [
    "# Create Sprite Classes"
   ]
  },
  {
   "cell_type": "markdown",
   "metadata": {},
   "source": [
    "## Player Class"
   ]
  },
  {
   "cell_type": "code",
   "execution_count": 39,
   "metadata": {},
   "outputs": [],
   "source": [
    "class Player(pygame.sprite.Sprite):\n",
    "    def __init__(self):\n",
    "        pygame.sprite.Sprite.__init__(self)\n",
    "        self.image = pygame.Surface((100,100))\n",
    "        self.image.fill(WHITE)\n",
    "        \n",
    "        self.rect = self.image.get_rect()\n",
    "        self.rect.center = (25,HEIGHT-25)\n",
    "        \n",
    "        self.y_speed = 0\n",
    "            \n",
    "    def update(self):\n",
    "        # Controls\n",
    "        key_state = pygame.key.get_pressed()\n",
    "                \n",
    "        if key_state[pygame.K_w]:\n",
    "            self.y_speed = -50\n",
    "            \n",
    "        elif key_state[pygame.K_s]:\n",
    "            self.y_speed = +50\n",
    "                    \n",
    "        \n",
    "        #Control update \n",
    "        self.rect.y += self.y_speed\n",
    "\n",
    "        \n",
    "        #Screeen options\n",
    "        if self.rect.right > WIDTH:\n",
    "            self.rect.right = WIDTH\n",
    "            \n",
    "        if self.rect.left < 0:\n",
    "            self.rect.left = 0\n",
    "        \n",
    "        if self.rect.top < 0:\n",
    "            self.rect.top = 0\n",
    "        \n",
    "        if self.rect.bottom > HEIGHT:\n",
    "            self.rect.bottom = HEIGHT\n"
   ]
  },
  {
   "cell_type": "markdown",
   "metadata": {},
   "source": [
    "## Enemy Class"
   ]
  },
  {
   "cell_type": "code",
   "execution_count": 40,
   "metadata": {},
   "outputs": [],
   "source": [
    "class Enemy(pygame.sprite.Sprite):\n",
    "    def __init__(self):\n",
    "        pygame.sprite.Sprite.__init__(self)\n",
    "        self.image = pygame.Surface((180,180))\n",
    "        self.image.fill(RED)\n",
    "        \n",
    "        self.rect = self.image.get_rect()\n",
    "        self.x_center = random.randint(WIDTH-300,WIDTH-90)\n",
    "        if random.uniform(0,1) < 0.5:\n",
    "            self.y_center = 90\n",
    "        else:\n",
    "            self.y_center = HEIGHT-90\n",
    "        self.rect.center = (self.x_center,self.y_center)\n",
    "        \n",
    "        self.x_speed = -20\n",
    "        \n",
    "        \n",
    "    def update(self):\n",
    "        self.rect.x += self.x_speed\n",
    "        \n",
    "        if self.rect.left < 0:\n",
    "            self.x_center = random.randint(WIDTH-300,WIDTH-90)\n",
    "            if random.uniform(0,1) < 0.5:\n",
    "                self.y_center = 90\n",
    "            else:\n",
    "                self.y_center = HEIGHT-90\n",
    "            self.rect.center = (self.x_center,self.y_center)\n",
    "            \n",
    "        #Screeen options\n",
    "        if self.rect.right > WIDTH:\n",
    "            self.rect.right = WIDTH\n",
    "            \n",
    "        if self.rect.left < 0:\n",
    "            self.rect.left = 0\n",
    "        \n",
    "        if self.rect.top < 0:\n",
    "            self.rect.top = 0\n",
    "        \n",
    "        if self.rect.bottom > HEIGHT:\n",
    "            self.rect.bottom = HEIGHT\n"
   ]
  },
  {
   "cell_type": "markdown",
   "metadata": {},
   "source": [
    "# Sprite Group"
   ]
  },
  {
   "cell_type": "code",
   "execution_count": 41,
   "metadata": {},
   "outputs": [],
   "source": [
    "player_group = pygame.sprite.Group()\n",
    "player = Player()\n",
    "player_group.add(player)\n",
    "\n",
    "enemy_group = pygame.sprite.Group()\n",
    "enemy_1 = Enemy()\n",
    "enemy_group.add(enemy_1)"
   ]
  },
  {
   "cell_type": "markdown",
   "metadata": {},
   "source": [
    "# Game Loop"
   ]
  },
  {
   "cell_type": "code",
   "execution_count": 42,
   "metadata": {},
   "outputs": [],
   "source": [
    "pygame.init()\n",
    "screen = pygame.display.set_mode([WIDTH,HEIGHT])\n",
    "pygame.display.set_caption('deneme_env')\n",
    "clock = pygame.time.Clock()"
   ]
  },
  {
   "cell_type": "code",
   "execution_count": 43,
   "metadata": {},
   "outputs": [],
   "source": [
    "running = True\n",
    "while running:\n",
    "    # keep loop running at the right speed\n",
    "    clock.tick(FPS)\n",
    "\n",
    "    \n",
    "    # process input\n",
    "    for event in pygame.event.get():\n",
    "        if event.type == pygame.QUIT:\n",
    "            running = False\n",
    "            \n",
    "    # update\n",
    "    player_group.update()\n",
    "    enemy_group.update()\n",
    "    \n",
    "    # check to see if a enemy hit the player\n",
    "    hits = pygame.sprite.spritecollide(player, enemy_group, False)\n",
    "    if hits: #hits == True\n",
    "        running = False\n",
    "         \n",
    "    #draw / render(show)\n",
    "    screen.fill(BLACK)\n",
    "    player_group.draw(screen)\n",
    "    enemy_group.draw(screen)\n",
    "    \n",
    "    #after drawing flip display\n",
    "    pygame.display.flip()\n",
    "    \n",
    "pygame.quit()"
   ]
  },
  {
   "cell_type": "code",
   "execution_count": null,
   "metadata": {},
   "outputs": [],
   "source": []
  },
  {
   "cell_type": "code",
   "execution_count": null,
   "metadata": {},
   "outputs": [],
   "source": []
  },
  {
   "cell_type": "code",
   "execution_count": null,
   "metadata": {},
   "outputs": [],
   "source": []
  }
 ],
 "metadata": {
  "kernelspec": {
   "display_name": "Python 3",
   "language": "python",
   "name": "python3"
  },
  "language_info": {
   "codemirror_mode": {
    "name": "ipython",
    "version": 3
   },
   "file_extension": ".py",
   "mimetype": "text/x-python",
   "name": "python",
   "nbconvert_exporter": "python",
   "pygments_lexer": "ipython3",
   "version": "3.8.5"
  }
 },
 "nbformat": 4,
 "nbformat_minor": 4
}
